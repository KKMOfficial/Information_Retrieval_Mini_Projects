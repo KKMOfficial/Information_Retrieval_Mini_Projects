{
 "cells": [
  {
   "cell_type": "markdown",
   "metadata": {},
   "source": [
    "#### Import Data And Stop Words"
   ]
  },
  {
   "cell_type": "code",
   "execution_count": 24,
   "metadata": {},
   "outputs": [],
   "source": [
    "import pandas as pd\n",
    "import numpy as np\n",
    "import matplotlib.pyplot as plt\n",
    "import re\n",
    "docs = pd.read_csv('hw1_docs.csv')\n",
    "queries = pd.read_csv('hw1_queries.csv')\n",
    "qrels = pd.read_csv('hw1_qrels.csv')\n",
    "with open('stop_words.txt','r') as f: stops = { w:1 for w in f.read().splitlines()}"
   ]
  },
  {
   "cell_type": "code",
   "execution_count": 140,
   "metadata": {},
   "outputs": [],
   "source": [
    "# sanity check function\n",
    "def check_results(query_index, ranking):\n",
    "    print(f\"[Query]: {queries.iloc[query_index]['query']}\")\n",
    "    RELATED_DOCS = ranking[query_index]\n",
    "    print(f\"[RELATED DOCS INDECES]: {RELATED_DOCS}\")\n",
    "    print(f\"[RELATED DOCS IDS]: {[docs.iloc[i]['doc_id'] for i in RELATED_DOCS]}\")\n",
    "    print(f\"TOP FIVE RESULT FOR 1'st QUERY\")\n",
    "    print(f\"[{docs.iloc[RELATED_DOCS[0]]['doc_id']}]: {docs.iloc[RELATED_DOCS[0]]['document']}\")\n",
    "    print(f\"[{docs.iloc[RELATED_DOCS[1]]['doc_id']}]: {docs.iloc[RELATED_DOCS[1]]['document']}\")\n",
    "    print(f\"[{docs.iloc[RELATED_DOCS[2]]['doc_id']}]: {docs.iloc[RELATED_DOCS[2]]['document']}\")\n",
    "    print(f\"[{docs.iloc[RELATED_DOCS[3]]['doc_id']}]: {docs.iloc[RELATED_DOCS[3]]['document']}\")\n",
    "    print(f\"[{docs.iloc[RELATED_DOCS[4]]['doc_id']}]: {docs.iloc[RELATED_DOCS[4]]['document']}\")\n",
    "    print(f\"[QREL]: {qrels[qrels['query_id']==(query_index+1)]}\")"
   ]
  },
  {
   "cell_type": "markdown",
   "metadata": {},
   "source": [
    "#### Preprocessing Document Dataset"
   ]
  },
  {
   "cell_type": "code",
   "execution_count": null,
   "metadata": {},
   "outputs": [],
   "source": [
    "# preprocessing : tokenization, lower case, stop-word removal\n",
    "term_doc = {}\n",
    "doc_term = {}\n",
    "for index, row in docs.iterrows():\n",
    "    term_doc[row['doc_id']] = []\n",
    "    tokens_list = re.split(r'\\s+', re.sub(r'[^\\w\\s]',' ',row['document'].lower()))\n",
    "    for token in tokens_list:\n",
    "        if token in doc_term: \n",
    "            doc_term[token] += [row['doc_id']]\n",
    "        elif (((len(token)>=2) and any(not char.isdigit() for char in token)) or (len(token)>=4)) and (token not in stops): \n",
    "            doc_term[token] = [row['doc_id']]\n",
    "        else: continue\n",
    "        term_doc[row['doc_id']] += [token]"
   ]
  },
  {
   "cell_type": "markdown",
   "metadata": {},
   "source": [
    "#### Space Vector Model Information Retrival"
   ]
  },
  {
   "cell_type": "code",
   "execution_count": 178,
   "metadata": {},
   "outputs": [
    {
     "name": "stdout",
     "output_type": "stream",
     "text": [
      "[Query]: what is the origin of COVID-19\n",
      "[RELATED DOCS INDECES]: [597 278 381 557 490 748 389 668 690 637]\n",
      "[RELATED DOCS IDS]: ['1abp6oom', '1vkz0b0o', '2nvk7glh', '0m5mc320', '1sq2uvur', '105q161g', '0xkz36bj', '0cq5ee1i', '2y452utz', 'lj8t52yl']\n",
      "TOP FIVE RESULT FOR 1'st QUERY\n",
      "[1abp6oom]: Abstract Taiwan experienced a large number of severe acute respiratory syndrome (SARS) viral infections between March and July 2003; by September of that year, 346 SARS cases were confirmed by RT-PCR or serological tests. In order to better understand evolutionary relationships among SARS coronaviruses (SCoVs) from different international regions, we performed phylogenetic comparisons of full-length genomic and protein sequences from 45 human SCoVs (including 12 from Taiwan) and two civet SCoVs. All the Taiwanese SARS-CoV strains which associated with nosocomial infection formed a monophyletic clade within the late phase of the SARS epidemic. This Taiwanese clade could be further divided into two epidemic waves. Taiwan SCoVs in the first wave clustered with three isolates from the Amoy Gardens housing complex in Hong Kong indicating their possible origin. Of the 45 human SCoVs, one isolate from Guangdong province, China, exhibited an extra 29-nucleotide fragment between Orf 10 and Orf 11—similar to the civet SCoV genome. Nucleotide and protein sequence comparisons suggested that all SCoVs of late epidemic came from human-to-human transmission, while certain SCoVs of early epidemic might have originated in animals.\n",
      "[1vkz0b0o]: To investigate the genetic diversity, time origin, and evolutionary history of the 2019-nCoV outbreak in China and Thailand, a total of 12 genome sequences of the virus with known sampling date (24 December 2019 and 13 January 2020) and geographic location (primarily Wuhan city, Hubei Province, China, but also Bangkok, Thailand) were analyzed. Phylogenetic and likelihood-mapping analyses of these genome sequences were performed. On the basis of our results, the star-like signal and topology of 2019-nCoV may be indicative of potentially large \"first generation\" human-to-human virus transmission. We estimated that 2019-nCoV likely originated in Wuhan on 9 November 2019 (95% credible interval: 25 September 2019 and 19 December 2019), and that Wuhan is the major hub for the spread of the 2019-nCoV outbreak in China and elsewhere. Our results could be useful for designing effective prevention strategies for 2019-nCoV in China and beyond.\n",
      "[2nvk7glh]: Background: The origin of severe acute respiratory syndrome coronavirus-2 (SARS-CoV-2) is still a debatable topic. The association of the virus spread from the market is supported by the close relation of genome sequences of environmental surface samples with virus samples from earliest patients by phylogenetic analysis. Objectives: To have an insight into the SARS-CoV-2 genome sequences reported from India for better understanding on their epidemiology and virulence. Methods: Genome sequences of Indian isolates of SARS-CoV-2 were analyzed to understand their phylogeny and divergence with respect to other isolates reported from other countries. Amino acid sequences of individual open reading frames (ORFs) from SARS-CoV-2 Indian isolates were aligned with sequences of isolates reported from other countries to identify the mutations occurred in Indian isolates. Results: Our analysis suggests that Indian SARS-CoV-2 isolates are closely related to isolates reported from other parts of the world. Most ORFs are highly conserved; mutations were also detected in some ORFs. We found that most isolates reported from India have key mutations at 614th position of the S protein and 84th position of the ORF 8, which has been reported to be associated with high virulence and high transmission rate. Conclusion: An attempt was made to understand the SARS-CoV-2 virus reported from India. SARS-CoV-2 reported from India was closely similar to other SARS-CoV-2 reported from other parts of the world, which suggests that vaccines and other therapeutic methods generated from other countries might work well in India. In addition, available sequence data suggest that majority of Indian isolates are capable of high transmission and virulence.\n",
      "[0m5mc320]: The COVID-19 pandemic is a serious and global public health concern. It is now well known that COVID-19 cases may result in mild symptoms leading to patient recovery. However, severity of infection, fatality rates, and treatment responses across different countries, age groups, and demographic groups suggest that the nature of infection is diverse, and a timely investigation of the same is needed for evolving sound treatment and preventive strategies. This paper reports an the analysis of age distribution patterns in six groups of Indian COVID-19 patient populations based on their likely geographical origin of infection viz. the United Kingdom, North America, the European Union, the Middle East, and Asian countries. It was observed that patient groups stratified in this way had a distinct age profile and that some of these groups e.g. patient groups from Asia, the European Union, and the United Kingdom formed a different cluster than those from North America, the Middle East, and other regions. Patient age profiles of a population were found to be highly predictive of the group they belong to, and there are indications of their distinct recovery and fatality rates across gender. Altogether this study provides a scalable framework to estimate the source of infection in a new population of COVID-19 patients with unknown origin. It is also concluded that greater public availability of age and other demographic profile details of patients may be helpful in gaining robust insights into COVID-19 infection origins. Datasets and scripts used in this work are shared at http://covid.sciwhylab.org.\n",
      "[1sq2uvur]: While dromedary camels are the immediate animal source of MERS coronavirus (MERS-CoV) infection, the evolutionary origin of MERS-CoV remains obscure. We analyzed 219 camel and human MERS-CoV genome sequences available in GenBank. Phylogenetic analysis showed that 5 and 214 strains belong to clade A and B, respectively, with clade A further divided into lineage A1 (3 human strains) and lineage A2 (2 camel strains), and clade B divided into B1 to B6 (each containing both human and camel strains). Recombination analysis showed potential recombination events in five strains from dromedaries in Saudi Arabia, with recombination between lineage B5 and B3 in four strains, and between lineage B3 and B4 in one strain. The spike protein showed the highest number of amino acid substitutions, especially between A2 and other lineages, and contained positively selected codons. Notably, codon 1020 was positively selected among B and B5 strains, and can distinguish between clade A (Q1020) and B (R1020/H1020) strains, suggesting that this residue may play a role in the evolution of S protein during divergence of different lineages. The time of the most recent common ancestor of all MERS-CoV was dated to approximately 2010. The implications on the role of camels in the evolution of MERS-CoV are discussed.\n",
      "[QREL]:     query_id    doc_id\n",
      "0          1  005b2j4b\n",
      "1          1  0chuwvg6\n",
      "2          1  0t2a5500\n",
      "3          1  0y34yxlb\n",
      "4          1  105q161g\n",
      "5          1  11edrkav\n",
      "6          1  1abp6oom\n",
      "7          1  1mjaycee\n",
      "8          1  1sq2uvur\n",
      "9          1  22fc1qly\n",
      "10         1  23yi8so0\n",
      "11         1  24yavi1w\n",
      "12         1  25va2cvt\n",
      "13         1  262bcl7h\n",
      "14         1  2l4xxu3v\n"
     ]
    }
   ],
   "source": [
    "# find most frequent terms\n",
    "# constants\n",
    "DIC_LENGTH = 10000\n",
    "NUM_RELATD = 10\n",
    "EPSILON = 1e-10\n",
    "\n",
    "doc_term = dict(sorted(doc_term.items(), key=lambda item: len(item[1])))\n",
    "# make dictionary of 1000 important words\n",
    "dictionary = {term:index for index,term in enumerate(list(doc_term.keys())[0:DIC_LENGTH])}\n",
    "# make dictionary-term tf-idf matrix for docs\n",
    "# this operation will result the DT matrix of shape(1000,750), which is 750 doc vectors in dictionary space\n",
    "TD = np.zeros((len(dictionary),len(term_doc)))\n",
    "for index,(doc,terms) in enumerate(term_doc.items()):\n",
    "    doc_in_dict = {}\n",
    "    for term in terms:\n",
    "        if term in dictionary: \n",
    "            if term in doc_in_dict:\n",
    "                doc_in_dict[term] += 1\n",
    "            else:\n",
    "                doc_in_dict[term] = 1\n",
    "    for term in doc_in_dict.keys():\n",
    "        TD[dictionary[term],index] = (doc_in_dict[term]/len(doc_in_dict)) * np.log10(len(term_doc)/len(doc_term[term])) \n",
    "# make dictionary-term tf-idf matrix for queries\n",
    "# this operation will result the DT matrix of shape(1000,50), which is 50 query vectors in dictionary space\n",
    "query_term = {}\n",
    "term_query = {}\n",
    "for index, row in queries.iterrows():\n",
    "    term_query[row['query_id']] = []\n",
    "    tokens_list = re.split(r'\\s+', re.sub(r'[^\\w\\s]',' ',row['query'].lower()))\n",
    "    for token in tokens_list:\n",
    "        if token in dictionary:\n",
    "            if token in query_term:\n",
    "                query_term[token] += [row['query_id']]\n",
    "            else:\n",
    "                query_term[token] = [row['query_id']]\n",
    "            term_query[row['query_id']] += [token]\n",
    "\n",
    "TQ = np.zeros((len(dictionary),queries.shape[0]))\n",
    "for index,(query,terms) in enumerate(term_query.items()):\n",
    "    query_in_dict = {}\n",
    "    for term in terms:\n",
    "        if term in query_in_dict:\n",
    "            query_in_dict[term] += 1\n",
    "        else:\n",
    "            query_in_dict[term] = 1\n",
    "    for term in query_in_dict.keys():\n",
    "        TQ[dictionary[term],index] = (query_in_dict[term]/len(query_in_dict)) * np.log10(len(term_doc)/len(doc_term[term])) \n",
    "# some black magick to find 10 smallest cosine norms! result is a 50*10 matrix of all queries with appropriate doc index\n",
    "Rank = np.argsort(np.einsum('ij,ik->kj',TD,TQ)/np.einsum('i,j->ji',1/(EPSILON+np.linalg.norm(TD,axis=0)),1/(EPSILON+np.linalg.norm(TQ,axis=0))), axis=1)[:, -NUM_RELATD:]\n",
    "# sanity check! just to be sure results are persistant\n",
    "check_results(0, Rank)"
   ]
  },
  {
   "cell_type": "markdown",
   "metadata": {},
   "source": [
    "#### Binary Independence Model"
   ]
  },
  {
   "cell_type": "code",
   "execution_count": 138,
   "metadata": {},
   "outputs": [
    {
     "name": "stdout",
     "output_type": "stream",
     "text": [
      "[Query]: what is the origin of COVID-19\n",
      "[RELATED DOCS INDECES]: [153 435 328 609 597 607 425 690 353 511]\n",
      "[RELATED DOCS IDS]: ['34ytd87a', '41378qru', '2zaxn6tq', '1mjaycee', '1abp6oom', '0gmtnkbh', '22fc1qly', '2y452utz', '10ecm4wi', '5pv11lfo']\n",
      "TOP FIVE RESULT FOR 1'st QUERY\n",
      "[34ytd87a]: In early December, pneumonia cases of unknown origin started to appear and, on the 7thof January 2020, these cases were declared to be caused by a novel beta-coronavirus according to viral genome sequencing on the 11thof February, 2020. Coronaviruses are enveloped, single strand RNA viruses that have been known to have the ability to mutate rapidly, alter tissue tropism and adjust to different epidemiological situations. As of the end of April 2020, 122,392 laboratory-confirmed cases of COVID-19 had been detected in Turkey, of whom 3,258 died. From the beginning of the COVID-19 epidemic, children seem to be less affected than adults. Therefore, there are limited data regarding the clinical features of COVID-19 in children. The majority of children with confirmed COVID-19 had a history of household contact. The most common symptoms were fever and cough. Previous data suggest that nearly half of patients are afebrile at the onset of the disease. Hospitalization and PICU admission rates for children were lower than for adults. However, PICU admission can be necessitated in children with severe disease. Infants, particularly under the age of 12 months, were more likely to develop severe disease. In children, milder and asymptomatic cases can be challenging and can play a role in transmission. In particular, clinicians should test those children who have a history of family cluster even though they are asymptomatic or present with mild symptoms.\n",
      "[41378qru]: The newly recognised coronavirus SARS-CoV-2, causative agent of coronavirus disease (COVID-19), has caused a pandemic with huge ramifications for human interactions around the globe. As expected, research efforts to understand the virus and curtail the disease are moving at a frantic pace alongside the spread of rumours, speculations and falsehoods. In this article, we aim to clarify the current scientific view behind several claims or controversies related to COVID-19. Starting with the origin of the virus, we then discuss the effect of ibuprofen and nicotine on the severity of the disease. We highlight the knowledge on fomites and SARS-CoV-2 and discuss the evidence and explications for a disproportionately stronger impact of COVID-19 on ethnic minorities, including a potential protective role for vitamin D. We further review what is known about the effects of SARS-CoV-2 infection in children, including their role in transmission of the disease, and conclude with the science on different mortality rates between different countries and whether this hints at the existence of more pathogenic cohorts of SARS-CoV-2.\n",
      "[2zaxn6tq]: Coronaviruses, seven of which are known to infect humans, can cause a spectrum of clinical presentations ranging from asymptomatic infection to severe illness and death. Four human coronaviruses (hCoVs)-229E, HKU1, NL63 and OC43-circulate globally, commonly infect children and typically cause mild upper respiratory tract infections. Three novel coronaviruses of zoonotic origin have emerged during the past two decades: severe acute respiratory syndrome coronavirus (SARS-CoV-1), Middle East respiratory syndrome coronavirus (MERS-CoV) and the recently discovered severe acute respiratory syndrome coronavirus 2 (SARS-CoV-2) which is the cause of the ongoing coronavirus disease 2019 (COVID-19) pandemic. These novel coronaviruses are known to cause severe illness and death predominantly in older adults and those with underlying comorbidities. Consistent with what has been observed during the outbreaks of SARS and MERS, children with COVID-19 are more likely to be asymptomatic or to have mild-to-moderate illness, with few deaths reported in children globally thus far. Clinical symptoms and laboratory and radiological abnormalities in children have been similar to those reported in adults but are generally less severe. A rare multisystem inflammatory syndrome in children (MIS-C) which has resulted in critical illness and some deaths has recently been described. Clinical trials for therapeutics and vaccine development should include paediatric considerations. Children may play an important role in the transmission of infection and outbreak dynamics and could be a key target population for effective measures to control outbreaks. The unintended consequences of the unprecedented scale and duration of pandemic control measures for children and families around the world should be carefully examined. ABBREVIATIONS: 2019-nCoV, 2019 novel coronavirus; ADEM, acute demyelinating encephalomyelitis; AAP, American Academy of Pediatrics; ACE-2, angiotensin-converting enzyme 2; ARDS, acute respiratory distress syndrome; BCG, bacillus Calmette-Guérin; BNP, brain natriuretic peptide; CDC, Centers for Disease Control and Prevention; CRP, C-reactive protein; CSF, cerebrospinal fluid; COVID-19, coronavirus disease 2019; CT, computed tomography; CXR, chest X-ray; DOL, day of life; hCoV, human coronavirus; ICU, intensive care unit; IL, interleukin; IVIG, intravenous immunoglobulin; KD, Kawasaki disease; LDH, lactate dehydrogenase; MERS, Middle East respiratory syndrome; MERS-CoV, Middle East respiratory syndrome coronavirus; MEURI, monitored emergency use of unregistered and experimental interventions; MIS-C, multi-system inflammatory syndrome in children; PCR, polymerase chain reaction; PICU, paediatric intensive care unit; RNA, ribonucleic acid; RCT, randomised-controlled trial; RSV, respiratory syncytial virus; SARS, severe acute respiratory syndrome; SARS-CoV-1, severe acute respiratory syndrome coronavirus 1; SARS-CoV-2, severe acute respiratory syndrome coronavirus 2; TNF-alpha, tumour necrosis factor alpha; UK United Kingdom; UNICEF, United Nations Children's Fund; USA, United States of America; WHO, World Health Organization.\n",
      "[1mjaycee]: The coronavirus disease 19 (COVID-19) is a highly transmittable and pathogenic viral infection caused by severe acute respiratory syndrome coronavirus 2 (SARS-CoV-2), which emerged in Wuhan, China and spread around the world. Genomic analysis revealed that SARS-CoV-2 is phylogenetically related to severe acute respiratory syndrome-like (SARS-like) bat viruses, therefore bats could be the possible primary reservoir. The intermediate source of origin and transfer to humans is not known, however, the rapid human to human transfer has been confirmed widely. There is no clinically approved antiviral drug or vaccine available to be used against COVID-19. However, few broad-spectrum antiviral drugs have been evaluated against COVID-19 in clinical trials, resulted in clinical recovery. In the current review, we summarize and comparatively analyze the emergence and pathogenicity of COVID-19 infection and previous human coronaviruses severe acute respiratory syndrome coronavirus (SARS-CoV) and middle east respiratory syndrome coronavirus (MERS-CoV). We also discuss the approaches for developing effective vaccines and therapeutic combinations to cope with this viral outbreak.\n",
      "[1abp6oom]: Abstract Taiwan experienced a large number of severe acute respiratory syndrome (SARS) viral infections between March and July 2003; by September of that year, 346 SARS cases were confirmed by RT-PCR or serological tests. In order to better understand evolutionary relationships among SARS coronaviruses (SCoVs) from different international regions, we performed phylogenetic comparisons of full-length genomic and protein sequences from 45 human SCoVs (including 12 from Taiwan) and two civet SCoVs. All the Taiwanese SARS-CoV strains which associated with nosocomial infection formed a monophyletic clade within the late phase of the SARS epidemic. This Taiwanese clade could be further divided into two epidemic waves. Taiwan SCoVs in the first wave clustered with three isolates from the Amoy Gardens housing complex in Hong Kong indicating their possible origin. Of the 45 human SCoVs, one isolate from Guangdong province, China, exhibited an extra 29-nucleotide fragment between Orf 10 and Orf 11—similar to the civet SCoV genome. Nucleotide and protein sequence comparisons suggested that all SCoVs of late epidemic came from human-to-human transmission, while certain SCoVs of early epidemic might have originated in animals.\n",
      "[QREL]:     query_id    doc_id\n",
      "0          1  005b2j4b\n",
      "1          1  0chuwvg6\n",
      "2          1  0t2a5500\n",
      "3          1  0y34yxlb\n",
      "4          1  105q161g\n",
      "5          1  11edrkav\n",
      "6          1  1abp6oom\n",
      "7          1  1mjaycee\n",
      "8          1  1sq2uvur\n",
      "9          1  22fc1qly\n",
      "10         1  23yi8so0\n",
      "11         1  24yavi1w\n",
      "12         1  25va2cvt\n",
      "13         1  262bcl7h\n",
      "14         1  2l4xxu3v\n"
     ]
    }
   ],
   "source": [
    "# main Word IDF\n",
    "def WIDF(p): return np.log10(p/(1-p))+np.log10(len(term_doc)*np.array([1/len(doc_term[term]) for term in list(dictionary.keys())]))\n",
    "# find which words are in which documents and then sum up the idf of present terms for each doc\n",
    "TDB = np.where(TD != 0, 1, TD)\n",
    "TQB = np.where(TQ != 0, 1, TQ)\n",
    "def BIM(p): return np.argsort(np.einsum(\"ijk,j->ik\",np.einsum(\"ij,ik->kij\",TDB,TQB),WIDF(p)), axis=1)[:, -NUM_RELATD:]\n",
    "BIM03 = BIM(p=0.3)\n",
    "BIM05 = BIM(p=0.5)\n",
    "BIM07 = BIM(p=0.7)\n",
    "# sanity check! just to be sure results are persistant\n",
    "check_results(0, BIM03)"
   ]
  },
  {
   "cell_type": "markdown",
   "metadata": {},
   "source": [
    "#### Best Match 25"
   ]
  },
  {
   "cell_type": "code",
   "execution_count": 187,
   "metadata": {},
   "outputs": [
    {
     "name": "stdout",
     "output_type": "stream",
     "text": [
      "[Query]: what is the origin of COVID-19\n",
      "[RELATED DOCS INDECES]: [748 435 425 609 557 278 389 668 690 637]\n",
      "[RELATED DOCS IDS]: ['105q161g', '41378qru', '22fc1qly', '1mjaycee', '0m5mc320', '1vkz0b0o', '0xkz36bj', '0cq5ee1i', '2y452utz', 'lj8t52yl']\n",
      "TOP FIVE RESULT FOR 1'st QUERY\n",
      "[105q161g]: A number of virological, epidemiological and ethnographic arguments suggest that COVID-19 has a zoonotic origin. The pangolin, a species threatened with extinction due to poaching for both culinary purposes and traditional Chinese pharmacopoeia, is now suspected of being the “missing link” in the transmission to humans of a virus that probably originated in a species of bat. Our predation of wild fauna and the reduction in their habitats have thus ended up creating new interfaces that favour the transmission of pathogens (mainly viruses) to humans. Domesticated animals and wild fauna thus constitute a reservoir for almost 80% of emerging human diseases (SARS-CoV, MERS-CoV, Ebola). These diseases are all zoonotic in origin. As if out of a Chinese fairy tale, the bat and the pangolin have taught us a lesson: within an increasingly interdependent world, environmental crises will become ever more intertwined with health crises. Questions relating to public health will no longer be confined to the secrecy of the physician’s consulting room or the sanitised environment of the hospital. They are now being played out in the arena of international trade, ports and airports and distribution networks. Simply put, all human activity creates new interfaces that facilitate the transmission of pathogens from an animal reservoir to humans. This pluri-disciplinary article highlights that environmental changes, such as the reduction in habitats for wild fauna and the intemperate trade in fauna, are the biggest causes of the emergence of new diseases. Against this background, it reviews the different measures taken to control, eradicate and prevent the emergence of animal diseases in a globalised world.\n",
      "[41378qru]: The newly recognised coronavirus SARS-CoV-2, causative agent of coronavirus disease (COVID-19), has caused a pandemic with huge ramifications for human interactions around the globe. As expected, research efforts to understand the virus and curtail the disease are moving at a frantic pace alongside the spread of rumours, speculations and falsehoods. In this article, we aim to clarify the current scientific view behind several claims or controversies related to COVID-19. Starting with the origin of the virus, we then discuss the effect of ibuprofen and nicotine on the severity of the disease. We highlight the knowledge on fomites and SARS-CoV-2 and discuss the evidence and explications for a disproportionately stronger impact of COVID-19 on ethnic minorities, including a potential protective role for vitamin D. We further review what is known about the effects of SARS-CoV-2 infection in children, including their role in transmission of the disease, and conclude with the science on different mortality rates between different countries and whether this hints at the existence of more pathogenic cohorts of SARS-CoV-2.\n",
      "[22fc1qly]: Coronaviruses are the well-known cause of severe respiratory, enteric and systemic infections in a wide range of hosts including man, mammals, fish, and avian. The scientific interest on coronaviruses increased after the emergence of Severe Acute Respiratory Syndrome coronavirus (SARS-CoV) outbreaks in 2002-2003 followed by Middle East Respiratory Syndrome CoV (MERS-CoV). This decade's first CoV, named 2019-nCoV, emerged from Wuhan, China, and declared as 'Public Health Emergency of International Concern' on January 30th, 2020 by the World Health Organization (WHO). As on February 4, 2020, 425 deaths reported in China only and one death outside China (Philippines). In a short span of time, the virus spread has been noted in 24 countries. The zoonotic transmission (animal-to-human) is suspected as the route of disease origin. The genetic analyses predict bats as the most probable source of 2019-nCoV though further investigations needed to confirm the origin of the novel virus. The ongoing nCoV outbreak highlights the hidden wild animal reservoir of the deadly viruses and possible threat of spillover zoonoses as well. The successful virus isolation attempts have made doors open for developing better diagnostics and effective vaccines helping in combating the spread of the virus to newer areas.\n",
      "[1mjaycee]: The coronavirus disease 19 (COVID-19) is a highly transmittable and pathogenic viral infection caused by severe acute respiratory syndrome coronavirus 2 (SARS-CoV-2), which emerged in Wuhan, China and spread around the world. Genomic analysis revealed that SARS-CoV-2 is phylogenetically related to severe acute respiratory syndrome-like (SARS-like) bat viruses, therefore bats could be the possible primary reservoir. The intermediate source of origin and transfer to humans is not known, however, the rapid human to human transfer has been confirmed widely. There is no clinically approved antiviral drug or vaccine available to be used against COVID-19. However, few broad-spectrum antiviral drugs have been evaluated against COVID-19 in clinical trials, resulted in clinical recovery. In the current review, we summarize and comparatively analyze the emergence and pathogenicity of COVID-19 infection and previous human coronaviruses severe acute respiratory syndrome coronavirus (SARS-CoV) and middle east respiratory syndrome coronavirus (MERS-CoV). We also discuss the approaches for developing effective vaccines and therapeutic combinations to cope with this viral outbreak.\n",
      "[0m5mc320]: The COVID-19 pandemic is a serious and global public health concern. It is now well known that COVID-19 cases may result in mild symptoms leading to patient recovery. However, severity of infection, fatality rates, and treatment responses across different countries, age groups, and demographic groups suggest that the nature of infection is diverse, and a timely investigation of the same is needed for evolving sound treatment and preventive strategies. This paper reports an the analysis of age distribution patterns in six groups of Indian COVID-19 patient populations based on their likely geographical origin of infection viz. the United Kingdom, North America, the European Union, the Middle East, and Asian countries. It was observed that patient groups stratified in this way had a distinct age profile and that some of these groups e.g. patient groups from Asia, the European Union, and the United Kingdom formed a different cluster than those from North America, the Middle East, and other regions. Patient age profiles of a population were found to be highly predictive of the group they belong to, and there are indications of their distinct recovery and fatality rates across gender. Altogether this study provides a scalable framework to estimate the source of infection in a new population of COVID-19 patients with unknown origin. It is also concluded that greater public availability of age and other demographic profile details of patients may be helpful in gaining robust insights into COVID-19 infection origins. Datasets and scripts used in this work are shared at http://covid.sciwhylab.org.\n",
      "[QREL]:     query_id    doc_id\n",
      "0          1  005b2j4b\n",
      "1          1  0chuwvg6\n",
      "2          1  0t2a5500\n",
      "3          1  0y34yxlb\n",
      "4          1  105q161g\n",
      "5          1  11edrkav\n",
      "6          1  1abp6oom\n",
      "7          1  1mjaycee\n",
      "8          1  1sq2uvur\n",
      "9          1  22fc1qly\n",
      "10         1  23yi8so0\n",
      "11         1  24yavi1w\n",
      "12         1  25va2cvt\n",
      "13         1  262bcl7h\n",
      "14         1  2l4xxu3v\n"
     ]
    }
   ],
   "source": [
    "# parameters\n",
    "# k_l = 1.4\n",
    "# b = 0.75\n",
    "l_avg = np.mean(np.array([len(terms) for terms in term_doc.values()]))\n",
    "\n",
    "# Term-Document matrix for BM25 algorithm\n",
    "def TDBM(b,k_l):\n",
    "    TDBM = np.zeros((len(dictionary),len(term_doc)))\n",
    "    for index,(doc,terms) in enumerate(term_doc.items()):\n",
    "        doc_in_dict = {}\n",
    "        for term in terms:\n",
    "            if term in dictionary: \n",
    "                if term in doc_in_dict:\n",
    "                    doc_in_dict[term] += 1\n",
    "                else:\n",
    "                    doc_in_dict[term] = 1\n",
    "        for term in doc_in_dict.keys():\n",
    "            tf = (doc_in_dict[term]/len(doc_in_dict))\n",
    "            TDBM[dictionary[term],index] = ((k_l+1)*tf*np.log10(len(term_doc)/len(doc_term[term])))/(k_l*(1-b+b*(len(doc_in_dict)/l_avg))+tf)\n",
    "    return TDBM\n",
    "TQB = np.where(TQ != 0, 1, TQ)\n",
    "BM2501 = np.argsort(np.einsum(\"ij,ik->kj\",TDBM(k_l=1.4,b=0.75),TQB), axis=1)[:, -NUM_RELATD:]\n",
    "BM2502 = np.argsort(np.einsum(\"ij,ik->kj\",TDBM(k_l=1.6,b=0.75),TQB), axis=1)[:, -NUM_RELATD:]\n",
    "BM2503 = np.argsort(np.einsum(\"ij,ik->kj\",TDBM(k_l=1.8,b=0.75),TQB), axis=1)[:, -NUM_RELATD:]\n",
    "# sanity check! just to be sure results are persistant\n",
    "check_results(0, BM2501)"
   ]
  },
  {
   "cell_type": "markdown",
   "metadata": {},
   "source": [
    "#### MRR Evaluation"
   ]
  },
  {
   "cell_type": "code",
   "execution_count": 188,
   "metadata": {},
   "outputs": [
    {
     "name": "stdout",
     "output_type": "stream",
     "text": [
      "[VS   MRR]: 0.52\n",
      "[BIM03  MRR]: 0.41\n",
      "[BIM05  MRR]: 0.45\n",
      "[BIM07  MRR]: 0.46\n",
      "[BM2501 MRR]: 0.56\n",
      "[BM2502 MRR]: 0.57\n",
      "[BM2503 MRR]: 0.57\n"
     ]
    }
   ],
   "source": [
    "def RR(rank, ground_truth):\n",
    "    for i,doc_id in enumerate(rank):\n",
    "        if doc_id in ground_truth : return 1/(i+1)\n",
    "    return 0\n",
    "# check average for the methods\n",
    "print(f\"[VS   MRR]: {np.array([RR(docs.iloc[rank]['doc_id'].to_list(), qrels[qrels['query_id']==(i+1)]['doc_id'].to_list()) for i,rank in enumerate(Rank)]).mean():.2f}\")\n",
    "print(f\"[BIM03  MRR]: {np.array([RR(docs.iloc[rank]['doc_id'].to_list(), qrels[qrels['query_id']==(i+1)]['doc_id'].to_list()) for i,rank in enumerate(BIM03)]).mean():.2f}\")\n",
    "print(f\"[BIM05  MRR]: {np.array([RR(docs.iloc[rank]['doc_id'].to_list(), qrels[qrels['query_id']==(i+1)]['doc_id'].to_list()) for i,rank in enumerate(BIM05)]).mean():.2f}\")\n",
    "print(f\"[BIM07  MRR]: {np.array([RR(docs.iloc[rank]['doc_id'].to_list(), qrels[qrels['query_id']==(i+1)]['doc_id'].to_list()) for i,rank in enumerate(BIM07)]).mean():.2f}\")\n",
    "print(f\"[BM2501 MRR]: {np.array([RR(docs.iloc[rank]['doc_id'].to_list(), qrels[qrels['query_id']==(i+1)]['doc_id'].to_list()) for i,rank in enumerate(BM2501)]).mean():.2f}\")\n",
    "print(f\"[BM2502 MRR]: {np.array([RR(docs.iloc[rank]['doc_id'].to_list(), qrels[qrels['query_id']==(i+1)]['doc_id'].to_list()) for i,rank in enumerate(BM2502)]).mean():.2f}\")\n",
    "print(f\"[BM2503 MRR]: {np.array([RR(docs.iloc[rank]['doc_id'].to_list(), qrels[qrels['query_id']==(i+1)]['doc_id'].to_list()) for i,rank in enumerate(BM2503)]).mean():.2f}\")"
   ]
  },
  {
   "cell_type": "markdown",
   "metadata": {},
   "source": [
    "#### MAP Evaluation"
   ]
  },
  {
   "cell_type": "code",
   "execution_count": 189,
   "metadata": {},
   "outputs": [
    {
     "name": "stdout",
     "output_type": "stream",
     "text": [
      "[VS   MPR]: 0.46\n",
      "[BIM03  MPR]: 0.36\n",
      "[BIM05  MPR]: 0.37\n",
      "[BIM07  MPR]: 0.37\n",
      "[BM2501 MPR]: 0.45\n",
      "[BM2502 MPR]: 0.46\n",
      "[BM2503 MPR]: 0.46\n"
     ]
    }
   ],
   "source": [
    "def PR(rank, ground_truth):\n",
    "    score, correct = [], 1\n",
    "    for i,doc_id in enumerate(rank):\n",
    "        score += [(correct if doc_id in ground_truth else 0)/(i+1)]\n",
    "        correct += 1\n",
    "    return np.array(score).mean()\n",
    "# check average for the methods\n",
    "print(f\"[VS   MPR]: {np.array([PR(docs.iloc[rank]['doc_id'].to_list(), qrels[qrels['query_id']==(i+1)]['doc_id'].to_list()) for i,rank in enumerate(Rank)]).mean():.2f}\")\n",
    "print(f\"[BIM03  MPR]: {np.array([PR(docs.iloc[rank]['doc_id'].to_list(), qrels[qrels['query_id']==(i+1)]['doc_id'].to_list()) for i,rank in enumerate(BIM03)]).mean():.2f}\")\n",
    "print(f\"[BIM05  MPR]: {np.array([PR(docs.iloc[rank]['doc_id'].to_list(), qrels[qrels['query_id']==(i+1)]['doc_id'].to_list()) for i,rank in enumerate(BIM05)]).mean():.2f}\")\n",
    "print(f\"[BIM07  MPR]: {np.array([PR(docs.iloc[rank]['doc_id'].to_list(), qrels[qrels['query_id']==(i+1)]['doc_id'].to_list()) for i,rank in enumerate(BIM07)]).mean():.2f}\")\n",
    "print(f\"[BM2501 MPR]: {np.array([PR(docs.iloc[rank]['doc_id'].to_list(), qrels[qrels['query_id']==(i+1)]['doc_id'].to_list()) for i,rank in enumerate(BM2501)]).mean():.2f}\")\n",
    "print(f\"[BM2502 MPR]: {np.array([PR(docs.iloc[rank]['doc_id'].to_list(), qrels[qrels['query_id']==(i+1)]['doc_id'].to_list()) for i,rank in enumerate(BM2502)]).mean():.2f}\")\n",
    "print(f\"[BM2503 MPR]: {np.array([PR(docs.iloc[rank]['doc_id'].to_list(), qrels[qrels['query_id']==(i+1)]['doc_id'].to_list()) for i,rank in enumerate(BM2503)]).mean():.2f}\")"
   ]
  },
  {
   "cell_type": "markdown",
   "metadata": {},
   "source": [
    "#### P@K Evaluation"
   ]
  },
  {
   "cell_type": "code",
   "execution_count": 190,
   "metadata": {},
   "outputs": [
    {
     "name": "stdout",
     "output_type": "stream",
     "text": [
      "[P@5 Results]\n",
      "[VS   P@5]: 0.39\n",
      "[BIM03  P@5]: 0.28\n",
      "[BIM05  P@5]: 0.30\n",
      "[BIM07  P@5]: 0.30\n",
      "[BM2501 P@5]: 0.40\n",
      "[BM2502 P@5]: 0.40\n",
      "[BM2503 P@5]: 0.40\n",
      "\n",
      "[P@10 Results]\n",
      "[VS   P@10]: 0.46\n",
      "[BIM03  P@10]: 0.36\n",
      "[BIM05  P@10]: 0.37\n",
      "[BIM07  P@10]: 0.37\n",
      "[BM2501 P@10]: 0.45\n",
      "[BM2502 P@10]: 0.46\n",
      "[BM2503 P@10]: 0.46\n"
     ]
    }
   ],
   "source": [
    "def PK(rank, ground_truth, k):\n",
    "    correct = 0\n",
    "    for _,doc_id in enumerate(rank[:k]):\n",
    "        if doc_id in ground_truth: correct += 1\n",
    "    return correct/k\n",
    "# check average for the methods\n",
    "print('[P@5 Results]')\n",
    "print(f\"[VS   P@5]: {np.array([PK(docs.iloc[rank]['doc_id'].to_list(), qrels[qrels['query_id']==(i+1)]['doc_id'].to_list(), k=5) for i,rank in enumerate(Rank)]).mean():.2f}\")\n",
    "print(f\"[BIM03  P@5]: {np.array([PK(docs.iloc[rank]['doc_id'].to_list(), qrels[qrels['query_id']==(i+1)]['doc_id'].to_list(), k=5) for i,rank in enumerate(BIM03)]).mean():.2f}\")\n",
    "print(f\"[BIM05  P@5]: {np.array([PK(docs.iloc[rank]['doc_id'].to_list(), qrels[qrels['query_id']==(i+1)]['doc_id'].to_list(), k=5) for i,rank in enumerate(BIM05)]).mean():.2f}\")\n",
    "print(f\"[BIM07  P@5]: {np.array([PK(docs.iloc[rank]['doc_id'].to_list(), qrels[qrels['query_id']==(i+1)]['doc_id'].to_list(), k=5) for i,rank in enumerate(BIM07)]).mean():.2f}\")\n",
    "print(f\"[BM2501 P@5]: {np.array([PK(docs.iloc[rank]['doc_id'].to_list(), qrels[qrels['query_id']==(i+1)]['doc_id'].to_list(), k=5) for i,rank in enumerate(BM2501)]).mean():.2f}\")\n",
    "print(f\"[BM2502 P@5]: {np.array([PK(docs.iloc[rank]['doc_id'].to_list(), qrels[qrels['query_id']==(i+1)]['doc_id'].to_list(), k=5) for i,rank in enumerate(BM2502)]).mean():.2f}\")\n",
    "print(f\"[BM2503 P@5]: {np.array([PK(docs.iloc[rank]['doc_id'].to_list(), qrels[qrels['query_id']==(i+1)]['doc_id'].to_list(), k=5) for i,rank in enumerate(BM2503)]).mean():.2f}\")\n",
    "\n",
    "# check average for the methods\n",
    "print('\\n[P@10 Results]')\n",
    "print(f\"[VS   P@10]: {np.array([PK(docs.iloc[rank]['doc_id'].to_list(), qrels[qrels['query_id']==(i+1)]['doc_id'].to_list(), k=10) for i,rank in enumerate(Rank)]).mean():.2f}\")\n",
    "print(f\"[BIM03  P@10]: {np.array([PK(docs.iloc[rank]['doc_id'].to_list(), qrels[qrels['query_id']==(i+1)]['doc_id'].to_list(), k=10) for i,rank in enumerate(BIM03)]).mean():.2f}\")\n",
    "print(f\"[BIM05  P@10]: {np.array([PK(docs.iloc[rank]['doc_id'].to_list(), qrels[qrels['query_id']==(i+1)]['doc_id'].to_list(), k=10) for i,rank in enumerate(BIM05)]).mean():.2f}\")\n",
    "print(f\"[BIM07  P@10]: {np.array([PK(docs.iloc[rank]['doc_id'].to_list(), qrels[qrels['query_id']==(i+1)]['doc_id'].to_list(), k=10) for i,rank in enumerate(BIM07)]).mean():.2f}\")\n",
    "print(f\"[BM2501 P@10]: {np.array([PK(docs.iloc[rank]['doc_id'].to_list(), qrels[qrels['query_id']==(i+1)]['doc_id'].to_list(), k=10) for i,rank in enumerate(BM2501)]).mean():.2f}\")\n",
    "print(f\"[BM2502 P@10]: {np.array([PK(docs.iloc[rank]['doc_id'].to_list(), qrels[qrels['query_id']==(i+1)]['doc_id'].to_list(), k=10) for i,rank in enumerate(BM2502)]).mean():.2f}\")\n",
    "print(f\"[BM2503 P@10]: {np.array([PK(docs.iloc[rank]['doc_id'].to_list(), qrels[qrels['query_id']==(i+1)]['doc_id'].to_list(), k=10) for i,rank in enumerate(BM2503)]).mean():.2f}\")"
   ]
  }
 ],
 "metadata": {
  "kernelspec": {
   "display_name": "base",
   "language": "python",
   "name": "python3"
  },
  "language_info": {
   "codemirror_mode": {
    "name": "ipython",
    "version": 3
   },
   "file_extension": ".py",
   "mimetype": "text/x-python",
   "name": "python",
   "nbconvert_exporter": "python",
   "pygments_lexer": "ipython3",
   "version": "3.10.10"
  }
 },
 "nbformat": 4,
 "nbformat_minor": 2
}
