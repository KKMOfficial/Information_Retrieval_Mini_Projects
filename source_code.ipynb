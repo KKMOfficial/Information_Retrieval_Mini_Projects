{
 "cells": [
  {
   "cell_type": "markdown",
   "metadata": {},
   "source": [
    "### Import Libraries"
   ]
  },
  {
   "cell_type": "code",
   "execution_count": 51,
   "metadata": {},
   "outputs": [],
   "source": [
    "import pandas as pd, numpy as np, torch, pickle\n",
    "from sklearn.decomposition import PCA\n",
    "import matplotlib.pyplot as plt\n",
    "from tqdm import tqdm\n",
    "from transformers import BertTokenizer, BertModel\n",
    "import gensim.parsing.preprocessing as gsp\n",
    "from sklearn.metrics import recall_score\n",
    "from scipy.stats import spearmanr"
   ]
  },
  {
   "cell_type": "markdown",
   "metadata": {},
   "source": [
    "### Load Dataset"
   ]
  },
  {
   "cell_type": "code",
   "execution_count": 2,
   "metadata": {},
   "outputs": [],
   "source": [
    "D_test = pd.read_csv('test_dataset.txt', sep='\\t', header=0)\n",
    "D_train = pd.read_csv('train_dataset.txt', sep='\\t', header=0)\n",
    "Users,Items = D_train['user_id'].unique(),D_train['item_id'].unique()\n",
    "R = np.full((Users.shape[0], Items.shape[0]), 0.0)\n",
    "for index, row in D_train.iterrows():\n",
    "    R[np.where(Users == row['user_id']),np.where(Items == row['item_id'])]=row['rate']"
   ]
  },
  {
   "cell_type": "markdown",
   "metadata": {},
   "source": [
    "### Learn U & I Matrices (As Ground Truth For Evaluation)"
   ]
  },
  {
   "cell_type": "code",
   "execution_count": 156,
   "metadata": {},
   "outputs": [
    {
     "name": "stderr",
     "output_type": "stream",
     "text": [
      " 99%|█████████▉| 99/100 [00:20<00:00,  4.72it/s]\n"
     ]
    },
    {
     "data": {
      "image/png": "[encoded data removed]",
      "text/plain": [
       "<Figure size 640x480 with 1 Axes>"
      ]
     },
     "metadata": {},
     "output_type": "display_data"
    }
   ],
   "source": [
    "Latent_Dimension = 64\n",
    "𝜆 = 1e-3\n",
    "𝜏 = 1e-3\n",
    "U = np.random.uniform(low=0, high=1, size=(Users.shape[0],Latent_Dimension))\n",
    "I = np.random.uniform(low=0, high=1, size=(Items.shape[0],Latent_Dimension))\n",
    "dU, dI = np.zeros_like(U), np.zeros_like(I)\n",
    "N = D_train.shape[0]\n",
    "def E(R,I,U): return np.sum(R*((R-U@I.T)**2))/N+𝜆*(np.linalg.norm(U)+np.linalg.norm(I))\n",
    "def _dU(R,I,U): return np.sum(-2*(R-U@I.T)@I)/N+𝜆*2*U\n",
    "def _dI(R,I,U): return np.sum(-2*(R-U@I.T).T@U)/N+𝜆*2*I\n",
    "_Δ = []\n",
    "for i in tqdm(range(100)):\n",
    "    # calculate loss\n",
    "    Δ = E(R,I,U)\n",
    "    _Δ += [Δ.item()]\n",
    "    # calculate gradient vectors\n",
    "    dU = _dU(R,I,U)\n",
    "    dI = _dI(R,I,U)\n",
    "    # calculate descent direction\n",
    "    dU = dU/np.linalg.norm(dU)\n",
    "    dI = dI/np.linalg.norm(dI)\n",
    "    # bisection to find step size\n",
    "    while Δ<E(R,I,U-dU): dU=dU/2\n",
    "    while Δ<E(R,I-dI,U): dI=dI/2\n",
    "    # update factors\n",
    "    U -= dU\n",
    "    I -= dI\n",
    "    # early stopping\n",
    "    if (np.linalg.norm(dI)<𝜏)&(np.linalg.norm(dU)<𝜏): break\n",
    "    \n",
    "plt.plot(list(range(len(_Δ))), _Δ)\n",
    "plt.show()\n",
    "\n",
    "# real vs approximate utility matrix at (0,0)\n",
    "R1 = U@I.T"
   ]
  },
  {
   "cell_type": "markdown",
   "metadata": {},
   "source": [
    "### Making Representation Vectors"
   ]
  },
  {
   "cell_type": "code",
   "execution_count": 166,
   "metadata": {},
   "outputs": [
    {
     "name": "stderr",
     "output_type": "stream",
     "text": [
      "Token indices sequence length is longer than the specified maximum sequence length for this model (673 > 512). Running this sequence through the model will result in indexing errors\n",
      "100%|██████████| 23038/23038 [1:54:29<00:00,  3.35it/s]  \n"
     ]
    }
   ],
   "source": [
    "# clean the text\n",
    "def clean_text(text):\n",
    "    return gsp.remove_stopwords(gsp.strip_tags(gsp.strip_punctuation(gsp.strip_numeric(text))))\n",
    "D_train['review_text'] = D_train['review_text'].astype('string')\n",
    "D_train['review_text'] = D_train['review_text'].fillna('')\n",
    "D_train['review_text'] = D_train['review_text'].apply(clean_text)\n",
    "# tokenize and transform the text\n",
    "tokenizer = BertTokenizer.from_pretrained('bert-base-uncased')\n",
    "model = BertModel.from_pretrained('bert-base-uncased')\n",
    "reviews = [torch.tensor([tokenizer.encode(sentence, add_special_tokens=True)])[:,:512] for sentence in list(D_train['review_text'])]\n",
    "with torch.no_grad():\n",
    "    results = []\n",
    "    for review in tqdm(reviews):\n",
    "        try: results += [model(review).last_hidden_state.mean(dim=1).squeeze()]\n",
    "        except: print(f\"[error] : {review}\")\n",
    "    reviews_vec = torch.stack(results)\n",
    "# store the texts\n",
    "\n",
    "with open (\"bert_review_vectors.pth\", \"wb\") as f:\n",
    "    pickle.dump(reviews_vec, f)"
   ]
  },
  {
   "cell_type": "markdown",
   "metadata": {},
   "source": [
    "### Part 3.A:: Replacing I Matrix"
   ]
  },
  {
   "cell_type": "code",
   "execution_count": 53,
   "metadata": {},
   "outputs": [],
   "source": [
    "# load representation vectors\n",
    "with open (\"bert_review_vectors.pth\", \"rb\") as f:\n",
    "    reviews_vec = pickle.load(f).numpy()\n",
    "# make 64 dimensional representation of comments\n",
    "pca = PCA(n_components=64)\n",
    "pca.fit(reviews_vec)\n",
    "reviews_pca_vec = pca.transform(reviews_vec)\n",
    "# make Item Comment matrix\n",
    "Item_Comment = []\n",
    "PCA_Item_Comment = []\n",
    "for item in Items: PCA_Item_Comment += [np.mean(reviews_pca_vec[[(D_train.loc[D_train['item_id'] == item].index)[0].astype(int)],:], axis=0)]\n",
    "for item in Items: Item_Comment += [np.mean(reviews_vec[[(D_train.loc[D_train['item_id'] == item].index)[0].astype(int)],:], axis=0)]\n",
    "bert_I = np.array(Item_Comment)\n",
    "pca_I = np.array(PCA_Item_Comment)\n",
    "R2 = U@pca_I.T"
   ]
  },
  {
   "cell_type": "markdown",
   "metadata": {},
   "source": [
    "### Part 3.B:: Concatinating I Matrix"
   ]
  },
  {
   "cell_type": "code",
   "execution_count": 54,
   "metadata": {},
   "outputs": [],
   "source": [
    "concatinated_I = np.concatenate((I, bert_I), axis=-1)\n",
    "pca = PCA(n_components=64)\n",
    "pca.fit(concatinated_I)\n",
    "pca_concatinated_I = pca.transform(concatinated_I)\n",
    "R3 = U@pca_concatinated_I.T"
   ]
  },
  {
   "cell_type": "markdown",
   "metadata": {},
   "source": [
    "### Evaluation"
   ]
  },
  {
   "cell_type": "code",
   "execution_count": 152,
   "metadata": {},
   "outputs": [],
   "source": [
    "def Recall(y_true,y_pred,k): return np.intersect1d(y_true, y_pred).shape[0]/k\n",
    "def DCG(X): return X/(np.log2(1+np.arange(X.shape[0]))+np.eye(1,X.shape[0]))\n",
    "def NDCG(y_true,y_pred,k): return np.sum((DCG(y_pred)/DCG(y_true))[:k])\n",
    "def Rank_Correlation(y_true,y_pred): return spearmanr(y_true, y_pred)\n",
    "def evaluate(y_true, y_pred, label, y_true_matrix, y_pred_matrix):\n",
    "    _R,_N,_C = [],[],[],\n",
    "    for ind,y in enumerate(zip(y_true,y_pred)):\n",
    "        y_t,y_p = y[0],y[1]\n",
    "        _R += [Recall(y_t,y_p,20)]\n",
    "        _N += [NDCG(y_true_matrix[ind,y_t],y_pred_matrix[ind,y_p],20)]\n",
    "        _C += [Rank_Correlation(y_t,y_p)]\n",
    "    _R = np.array(_R).mean()\n",
    "    _N = np.array(_N).mean()\n",
    "    _C = np.array(_C).mean()\n",
    "    print(f\"Evaluation Results Of {label}:\")\n",
    "    print(f\"[Recall]          : {_R:0.2f}\")\n",
    "    print(f\"[NDCG]            : {_N:0.2f}\")\n",
    "    print(f\"[Rank_Correlation]: {_C:0.2f}\")"
   ]
  },
  {
   "cell_type": "code",
   "execution_count": 153,
   "metadata": {},
   "outputs": [],
   "source": [
    "I0,I1 = np.where(R > 0)\n",
    "ground_truth, bert_method, concatinate_method = [],[],[]\n",
    "\n",
    "for I,r1 in enumerate(np.argsort(-R1,axis=-1)):\n",
    "    ground_truth += [r1[np.in1d(r1, I1[np.where(I0==I)], invert=True)][:20]]\n",
    "for I,r2 in enumerate(np.argsort(-R2,axis=-1)):\n",
    "    bert_method += [r2[np.in1d(r2, I1[np.where(I0==I)], invert=True)][:20]]\n",
    "for I,r3 in enumerate(np.argsort(-R3,axis=-1)):\n",
    "    concatinate_method += [r3[np.in1d(r3, I1[np.where(I0==I)], invert=True)][:20]]\n",
    "\n",
    "ground_truth = np.array(ground_truth)\n",
    "bert_method = np.array(bert_method)\n",
    "concatinate_method = np.array(concatinate_method)"
   ]
  },
  {
   "cell_type": "markdown",
   "metadata": {},
   "source": [
    "### BERT Method Result"
   ]
  },
  {
   "cell_type": "code",
   "execution_count": 154,
   "metadata": {},
   "outputs": [
    {
     "name": "stdout",
     "output_type": "stream",
     "text": [
      "Evaluation Results Of Pure BERT Representation:\n",
      "[Recall]          : 0.03\n",
      "[NDCG]            : 23.00\n",
      "[Rank_Correlation]: 0.25\n"
     ]
    }
   ],
   "source": [
    "evaluate(ground_truth,bert_method,\"Pure BERT Representation\", R1, R2)"
   ]
  },
  {
   "cell_type": "code",
   "execution_count": 155,
   "metadata": {},
   "outputs": [
    {
     "name": "stdout",
     "output_type": "stream",
     "text": [
      "Evaluation Results Of Concatinated Representation:\n",
      "[Recall]          : 0.03\n",
      "[NDCG]            : 23.57\n",
      "[Rank_Correlation]: 0.26\n"
     ]
    }
   ],
   "source": [
    "evaluate(ground_truth,concatinate_method,\"Concatinated Representation\", R1, R3)"
   ]
  }
 ],
 "metadata": {
  "kernelspec": {
   "display_name": "base",
   "language": "python",
   "name": "python3"
  },
  "language_info": {
   "codemirror_mode": {
    "name": "ipython",
    "version": 3
   },
   "file_extension": ".py",
   "mimetype": "text/x-python",
   "name": "python",
   "nbconvert_exporter": "python",
   "pygments_lexer": "ipython3",
   "version": "3.10.10"
  }
 },
 "nbformat": 4,
 "nbformat_minor": 2
}
